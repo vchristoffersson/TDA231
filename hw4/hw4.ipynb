{
 "cells": [
  {
   "cell_type": "markdown",
   "metadata": {},
   "source": [
    "$\\qquad$ $\\qquad$$\\qquad$  **TDA 231 Machine Learning: Homework 4** <br />\n",
    "$\\qquad$ $\\qquad$$\\qquad$ **Goal: Support Vector Machines**<br />\n",
    "$\\qquad$ $\\qquad$$\\qquad$                   **Grader: Vasileios** <br />\n",
    "$\\qquad$ $\\qquad$$\\qquad$                     **Due Date: 14/5** <br />\n",
    "$\\qquad$ $\\qquad$$\\qquad$                   **Submitted by: Name, Personal no., email** <br />"
   ]
  },
  {
   "cell_type": "markdown",
   "metadata": {},
   "source": [
    "General guidelines:\n",
    "* All solutions to theoretical problems, can be submitted as a single file named *report.pdf*. They can also be submitted in this ipynb notebook, but equations wherever required, should be formatted using LaTeX math-mode.\n",
    "* All discussion regarding practical problems, along with solutions and plots should be specified here itself. We will not generate the solutions/plots again by running your code.\n",
    "* Your name, personal number and email address should be specified above and also in your file *report.pdf*.\n",
    "* All datasets can be downloaded from the course website.\n",
    "* All tables and other additional information should be included."
   ]
  },
  {
   "cell_type": "markdown",
   "metadata": {},
   "source": [
    "# Theoretical problems\n",
    "\n",
    "## [SVM, 5 points]\n",
    "\n",
    "Consider a (hard margin) SVM with the following training points from\n",
    "two classes:\n",
    "\\begin{eqnarray}\n",
    "+1: &(2,2), (4,4), (4,0) \\nonumber \\\\\n",
    "-1: &(0,0), (2,0), (0,2) \\nonumber\n",
    "\\end{eqnarray}\n",
    "\n",
    "Plot these six training points, and construct by inspection the\n",
    "weight vector for the optimal hyperplane. In your solution, specify\n",
    "the hyperplane in terms of w and b such that $w_1 x_1 + w_2 x_2 + b =\n",
    "0$. Calculate what the margin is (i.e., $2\\gamma$ where $\\gamma$ is the\n",
    "distance from the hyperplane to its closest data point), showing all\n",
    "of your work. (Hint: It may be useful to recall that the distance of a point $(a_1,a_2)$ from the line $w_1x_1 + w_2x_2 + b = 0$ is $|w_1a_1 + w_2a_2 + b|/\\sqrt{w_1^2 + w_2^2}$.)"
   ]
  },
  {
   "cell_type": "markdown",
   "metadata": {},
   "source": []
  },
  {
   "cell_type": "code",
   "execution_count": 3,
   "metadata": {},
   "outputs": [
    {
     "data": {
      "image/png": "[encoded data removed]",
      "text/plain": [
       "<Figure size 432x288 with 1 Axes>"
      ]
     },
     "metadata": {},
     "output_type": "display_data"
    }
   ],
   "source": [
    "import numpy as np\n",
    "import matplotlib.pyplot as plt\n",
    "\n",
    "X1 = [2, 4, 4]\n",
    "Y1 = [2, 4, 0]\n",
    "\n",
    "X2 = [0, 2, 0]\n",
    "Y2 = [0, 0, 2]\n",
    "\n",
    "plt.scatter(X1, Y1, marker='+')\n",
    "plt.scatter(X2, Y2, marker='_')\n",
    "plt.plot([0,4],[3,-1])\n",
    "plt.show()"
   ]
  },
  {
   "cell_type": "markdown",
   "metadata": {},
   "source": [
    "## [SVM cont'd, 5 points]\n",
    "\n",
    "\n",
    "Consider the same problem from above.\n",
    "\n",
    "a. Write the primal formulation of the SVM **for this specific example** i.e. you have to specialise the general formulation for the set of inputs given.\n",
    "\n",
    "b. Give the optimal primal solution **for this specific**.\n",
    "\n",
    "c. Write the dual formulation **for this specific**.\n",
    "\n",
    "d. Give the optimal dual solution, comment on support vectors."
   ]
  },
  {
   "cell_type": "markdown",
   "metadata": {},
   "source": [
    "## Solution\n",
    "\n",
    "#### a\n",
    "The general primal formulation is\n",
    "$$argmin_\\mathbf{w} \\frac{1}{2} \\mathbf{w}^T\\mathbf{w}$$\n",
    "subject to\n",
    "$${t}_n(\\mathbf{w}^T\\mathbf{x}_n+b)\\geq 1$$\n",
    "\n",
    "With the datapoints:\n",
    "$$\\mathbf{x}_1 = (2,2), t_1=1$$\n",
    "$$\\mathbf{x}_2 = (4,4), t_2=1$$\n",
    "$$\\mathbf{x}_3 = (4,0), t_3=1$$\n",
    "$$\\mathbf{x}_4 = (0,0), t_4=-1$$\n",
    "$$\\mathbf{x}_5 = (2,0), t_5=-1$$\n",
    "$$\\mathbf{x}_6 = (0,2), t_6=-1$$\n",
    "\n",
    "we get the constraints:\n",
    "$$+1$$\n",
    "$$(2,2): 1((w_1,w_2)^T(2,2)+b) \\geq 1 $$\n",
    "$$(4,4): 1((w_1,w_2)^T(4,4)+b) \\geq 1 $$\n",
    "$$(4,0): 1((w_1,w_2)^T(4,0)+b) \\geq 1 $$\n",
    "$$-1$$\n",
    "$$(0,0): -1((w_1,w_2)^T(0,0)+b) \\geq 1 $$\n",
    "$$(2,0): -1((w_1,w_2)^T(2,0)+b) \\geq 1 $$\n",
    "$$(0,2): -1((w_1,w_2)^T(0,2)+b)\\geq 1 $$\n",
    "\n",
    "#### b\n",
    "\n",
    "The optimal solution can be found using matlab fmincon and it yields the result $\\mathbf{w}=(1,1), b=-3$\n",
    "\n",
    "#### c\n",
    "The dual formulation is the following:\n",
    "$$argmax_\\alpha \\Sigma_{n=1}^N \\alpha_n - \\frac{1}{2} \\Sigma_{n.m=1}^N \\alpha_n \\alpha_m t_n t_m \\mathbf{x}_n^T \\mathbf{x}_m\n",
    "$$\n",
    "subject to\n",
    "$$\n",
    "\\Sigma_{n=1}^N \\alpha_n t_n = 0, \\alpha_n \\geq 0\n",
    "$$\n",
    "\n",
    "In this case we have N=6\n",
    "\n",
    "with\n",
    "$$\\mathbf{x}_1 = (2,2), t_1=1$$\n",
    "$$\\mathbf{x}_2 = (4,4), t_2=1$$\n",
    "$$\\mathbf{x}_3 = (4,0), t_3=1$$\n",
    "$$\\mathbf{x}_4 = (0,0), t_4=-1$$\n",
    "$$\\mathbf{x}_5 = (2,0), t_5=-1$$\n",
    "$$\\mathbf{x}_6 = (0,2), t_6=-1$$\n",
    "\n",
    "#### d\n",
    "This can also be solved using quadprog in matlab, which then yields the same solution as above $\\mathbf{w}=(1,1), b=-3$\n",
    "\n",
    "Since margin is only a function of the closest points, using just these so called support vectors would yield the solution."
   ]
  },
  {
   "cell_type": "code",
   "execution_count": null,
   "metadata": {},
   "outputs": [],
   "source": []
  },
  {
   "cell_type": "markdown",
   "metadata": {},
   "source": [
    "# Practical problems\n",
    "\n",
    "All data files can be loaded using the following code for example:\n",
    "```python\n",
    "import numpy as np\n",
    "data = np.loadtxt('d1.txt')\n",
    "X = data[:,:2]\n",
    "Y = data[:,-1]\n",
    "```\n",
    "\n",
    "For this assigment, you may use sklearn.svm.SVC or sklearn.svm.NuSVC. \n",
    "\n",
    "## [SVM, 5 points]\n",
    "\n",
    "Consider the dataset **d1.txt** having two-dimensional points $X$ and corresponding labels $Y$.\n",
    "\n",
    "a. Train an SVM (with linear kernel) on the above data.\n",
    "\n",
    "b. Plot the data and the separating hyperplane of the trained classifier. Color the points of one class red and the other blue. Mark points that could not be separated correctly. Also, mark the support vectors.\n",
    "\n",
    "c. Does the classifier have bias, and if \n",
    "\n",
    "so, what is it?\n",
    "\n",
    "d. What is the (soft) margin?"
   ]
  },
  {
   "cell_type": "code",
   "execution_count": 100,
   "metadata": {},
   "outputs": [
    {
     "data": {
      "image/png": "[encoded data removed]",
      "text/plain": [
       "<Figure size 432x288 with 1 Axes>"
      ]
     },
     "metadata": {},
     "output_type": "display_data"
    },
    {
     "name": "stdout",
     "output_type": "stream",
     "text": [
      "bias: 2.4538428026349837\n",
      "margin: 0.9982716405894542\n"
     ]
    }
   ],
   "source": [
    "import numpy as np\n",
    "import matplotlib.pyplot as plt\n",
    "from sklearn.svm import SVC\n",
    "\n",
    "data = np.loadtxt('d1.txt')\n",
    "X = data[:,:2]\n",
    "Y = data[:,-1]\n",
    "\n",
    "Xpos = X[Y == 1]\n",
    "Xneg = X[Y == -1]\n",
    "\n",
    "#Train model\n",
    "clf = SVC(kernel='linear')\n",
    "fitted = clf.fit(X, Y)\n",
    "\n",
    "W = fitted.coef_[0]\n",
    "I = fitted.intercept_\n",
    "\n",
    "a = -W[0] / W[1]\n",
    "b = I[0] / W[1]\n",
    "\n",
    "x = np.linspace(-3, 4)\n",
    "y = a*x - b\n",
    "\n",
    "#Margin\n",
    "margin = 1 / np.sqrt(W[0]*W[0] + W[1]*W[1])\n",
    "margin = 2*margin\n",
    "\n",
    "#Find mislabelled points\n",
    "pred = fitted.predict(X)\n",
    "fault = [Y != pred]\n",
    "faultpoints = X[fault]\n",
    "\n",
    "support = fitted.support_\n",
    "vec = X[support]\n",
    "\n",
    "\n",
    "plt.scatter(Xpos[:,:1], Xpos[:,-1], color='red', label = 'class +1')\n",
    "plt.scatter(Xneg[:,:1], Xneg[:,-1], color='blue', label = 'class -1')\n",
    "plt.scatter(faultpoints[:,:1], faultpoints[:,-1], color='black', label = 'misspredicted')\n",
    "plt.scatter(vec[:,:1], vec[:,-1], marker='+', color='white', label = 'support vector')\n",
    "plt.plot(x, y)\n",
    "plt.legend()\n",
    "plt.show()\n",
    "\n",
    "print('bias:', I[0])\n",
    "print('margin:', margin)"
   ]
  },
  {
   "cell_type": "markdown",
   "metadata": {},
   "source": [
    "## [Kernels, 5 points]\n",
    "\n",
    "Download the dataset **d2.txt**. Consider the following kernels.\n",
    "\n",
    "* Linear kernel\n",
    "* Quadratic kernel \n",
    "* Radial Basis Function (RBF) kernel\n",
    "\n",
    "a. Train an SVM with the linear kernel on all of the data (d2.txt). Plot the data. Color the points of one class red and the other blue. Mark points that could not be separated correctly by the trained model.\n",
    "\n",
    "b. Plot the decision surfaces for the Quadratic and RBF kernel seperately."
   ]
  },
  {
   "cell_type": "code",
   "execution_count": 114,
   "metadata": {},
   "outputs": [
    {
     "name": "stdout",
     "output_type": "stream",
     "text": [
      "0.2789693582011057\n",
      "-4782.055491371721\n"
     ]
    },
    {
     "data": {
      "image/png": "[encoded data removed]",
      "text/plain": [
       "<Figure size 432x288 with 1 Axes>"
      ]
     },
     "metadata": {},
     "output_type": "display_data"
    }
   ],
   "source": [
    "import numpy as np\n",
    "import matplotlib.pyplot as plt\n",
    "from sklearn.svm import SVC\n",
    "\n",
    "data = np.loadtxt('d2.txt')\n",
    "X = data[:,:2]\n",
    "Y = data[:,-1]\n",
    "\n",
    "Xpos = X[Y == 1]\n",
    "Xneg = X[Y == -1]\n",
    "\n",
    "#Train model\n",
    "clf = SVC(kernel='linear')\n",
    "fitted = clf.fit(X, Y)\n",
    "\n",
    "W = fitted.coef_[0]\n",
    "I = fitted.intercept_\n",
    "\n",
    "a = -W[0] / W[1]\n",
    "b = I[0] / W[1]\n",
    "print(a)\n",
    "print(b)\n",
    "x = np.linspace(-0.1, 0.1)\n",
    "y = a*x - b\n",
    "\n",
    "#Margin\n",
    "margin = 1 / np.sqrt(W[0]*W[0] + W[1]*W[1])\n",
    "margin = 2*margin\n",
    "\n",
    "#Find mislabelled points\n",
    "pred = fitted.predict(X)\n",
    "fault = [Y != pred]\n",
    "faultpoints = X[fault]\n",
    "\n",
    "support = fitted.support_\n",
    "vec = X[support]\n",
    "\n",
    "\n",
    "plt.scatter(Xpos[:,:1], Xpos[:,-1], color='red', label = 'class +1')\n",
    "plt.scatter(Xneg[:,:1], Xneg[:,-1], color='blue', label = 'class -1')\n",
    "#plt.scatter(faultpoints[:,:1], faultpoints[:,-1], color='black', label = 'misspredicted')\n",
    "#plt.scatter(vec[:,:1], vec[:,-1], marker='+', color='white', label = 'support vector')\n",
    "#plt.plot(x, y)\n",
    "plt.legend()\n",
    "plt.show()\n"
   ]
  },
  {
   "cell_type": "code",
   "execution_count": null,
   "metadata": {},
   "outputs": [],
   "source": []
  }
 ],
 "metadata": {
  "kernelspec": {
   "display_name": "Python 3",
   "language": "python",
   "name": "python3"
  },
  "language_info": {
   "codemirror_mode": {
    "name": "ipython",
    "version": 3
   },
   "file_extension": ".py",
   "mimetype": "text/x-python",
   "name": "python",
   "nbconvert_exporter": "python",
   "pygments_lexer": "ipython3",
   "version": "3.6.4"
  }
 },
 "nbformat": 4,
 "nbformat_minor": 2
}
